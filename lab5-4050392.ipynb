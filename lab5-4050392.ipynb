{
  "nbformat": 4,
  "nbformat_minor": 0,
  "metadata": {
    "colab": {
      "provenance": [],
      "collapsed_sections": [],
      "authorship_tag": "ABX9TyOvnUTe2o0zEptx2ujbpu5J",
      "include_colab_link": true
    },
    "kernelspec": {
      "name": "python3",
      "display_name": "Python 3"
    },
    "language_info": {
      "name": "python"
    }
  },
  "cells": [
    {
      "cell_type": "markdown",
      "metadata": {
        "id": "view-in-github",
        "colab_type": "text"
      },
      "source": [
        "<a href=\"https://colab.research.google.com/github/fedhah/DS/blob/main/lab5-4050392.ipynb\" target=\"_parent\"><img src=\"https://colab.research.google.com/assets/colab-badge.svg\" alt=\"Open In Colab\"/></a>"
      ]
    },
    {
      "cell_type": "code",
      "execution_count": 1,
      "metadata": {
        "colab": {
          "base_uri": "https://localhost:8080/"
        },
        "id": "VZ0l8YZtdVuN",
        "outputId": "3c4d19e0-c850-439e-d259-284fe1737ce0"
      },
      "outputs": [
        {
          "output_type": "stream",
          "name": "stdout",
          "text": [
            "Looking in indexes: https://pypi.org/simple, https://us-python.pkg.dev/colab-wheels/public/simple/\n",
            "Requirement already satisfied: nltk in /usr/local/lib/python3.7/dist-packages (3.7)\n",
            "Requirement already satisfied: joblib in /usr/local/lib/python3.7/dist-packages (from nltk) (1.2.0)\n",
            "Requirement already satisfied: tqdm in /usr/local/lib/python3.7/dist-packages (from nltk) (4.64.1)\n",
            "Requirement already satisfied: regex>=2021.8.3 in /usr/local/lib/python3.7/dist-packages (from nltk) (2022.6.2)\n",
            "Requirement already satisfied: click in /usr/local/lib/python3.7/dist-packages (from nltk) (7.1.2)\n"
          ]
        }
      ],
      "source": [
        "!pip install nltk"
      ]
    },
    {
      "cell_type": "code",
      "source": [
        "from __future__ import print_function"
      ],
      "metadata": {
        "id": "ch4shtHefngU"
      },
      "execution_count": 8,
      "outputs": []
    },
    {
      "cell_type": "code",
      "source": [
        "from nltk.metrics import *"
      ],
      "metadata": {
        "id": "Fk0uiuPAdbSV"
      },
      "execution_count": 10,
      "outputs": []
    },
    {
      "cell_type": "code",
      "source": [
        "Sentence1= \"There are many similarity measures used in NLTK package\".split()\n",
        "Sentence2= \"There are many similarity measures are available in NLTK\".split()"
      ],
      "metadata": {
        "id": "7N18xedFkGwH"
      },
      "execution_count": 13,
      "outputs": []
    },
    {
      "cell_type": "code",
      "source": [
        "\n",
        "print(accuracy(Sentence1,Sentence2))\n",
        "setSentence1=set(Sentence1)\n",
        "setSentence2=set(Sentence2)\n",
        "\n",
        "p= precision(setSentence1,setSentence2)\n",
        "r= recall(setSentence1,setSentence2)\n",
        "\n",
        "print('precision=',p)\n",
        "print('recall=',r)\n",
        "\n",
        "f_measure= (2* p * r)/(p+r)\n",
        "print('f-measure=',f_measure)"
      ],
      "metadata": {
        "colab": {
          "base_uri": "https://localhost:8080/"
        },
        "id": "0Nc8WzYrdm_y",
        "outputId": "db5f42e3-be1c-4077-fa33-54755bb44b34"
      },
      "execution_count": 17,
      "outputs": [
        {
          "output_type": "stream",
          "name": "stdout",
          "text": [
            "0.5555555555555556\n",
            "precision= 0.875\n",
            "recall= 0.7777777777777778\n",
            "f-measure= 0.823529411764706\n"
          ]
        }
      ]
    },
    {
      "cell_type": "code",
      "source": [
        "from sklearn.metrics import classification_report\n",
        "classification_report = classification_report(Sentence1,Sentence2)\n",
        "print('classification report \\n', classification_report)"
      ],
      "metadata": {
        "colab": {
          "base_uri": "https://localhost:8080/"
        },
        "id": "Hw5_JFrzLYio",
        "outputId": "ad94c2f2-3a16-43c8-d047-abed5e1ddbcc"
      },
      "execution_count": 36,
      "outputs": [
        {
          "output_type": "stream",
          "name": "stdout",
          "text": [
            "classification report \n",
            "               precision    recall  f1-score   support\n",
            "\n",
            "        NLTK       0.00      0.00      0.00         1\n",
            "       There       1.00      1.00      1.00         1\n",
            "         are       0.50      1.00      0.67         1\n",
            "   available       0.00      0.00      0.00         0\n",
            "          in       0.00      0.00      0.00         1\n",
            "        many       1.00      1.00      1.00         1\n",
            "    measures       1.00      1.00      1.00         1\n",
            "     package       0.00      0.00      0.00         1\n",
            "  similarity       1.00      1.00      1.00         1\n",
            "        used       0.00      0.00      0.00         1\n",
            "\n",
            "    accuracy                           0.56         9\n",
            "   macro avg       0.45      0.50      0.47         9\n",
            "weighted avg       0.50      0.56      0.52         9\n",
            "\n"
          ]
        },
        {
          "output_type": "stream",
          "name": "stderr",
          "text": [
            "/usr/local/lib/python3.7/dist-packages/sklearn/metrics/_classification.py:1318: UndefinedMetricWarning: Precision and F-score are ill-defined and being set to 0.0 in labels with no predicted samples. Use `zero_division` parameter to control this behavior.\n",
            "  _warn_prf(average, modifier, msg_start, len(result))\n",
            "/usr/local/lib/python3.7/dist-packages/sklearn/metrics/_classification.py:1318: UndefinedMetricWarning: Recall and F-score are ill-defined and being set to 0.0 in labels with no true samples. Use `zero_division` parameter to control this behavior.\n",
            "  _warn_prf(average, modifier, msg_start, len(result))\n",
            "/usr/local/lib/python3.7/dist-packages/sklearn/metrics/_classification.py:1318: UndefinedMetricWarning: Precision and F-score are ill-defined and being set to 0.0 in labels with no predicted samples. Use `zero_division` parameter to control this behavior.\n",
            "  _warn_prf(average, modifier, msg_start, len(result))\n",
            "/usr/local/lib/python3.7/dist-packages/sklearn/metrics/_classification.py:1318: UndefinedMetricWarning: Recall and F-score are ill-defined and being set to 0.0 in labels with no true samples. Use `zero_division` parameter to control this behavior.\n",
            "  _warn_prf(average, modifier, msg_start, len(result))\n",
            "/usr/local/lib/python3.7/dist-packages/sklearn/metrics/_classification.py:1318: UndefinedMetricWarning: Precision and F-score are ill-defined and being set to 0.0 in labels with no predicted samples. Use `zero_division` parameter to control this behavior.\n",
            "  _warn_prf(average, modifier, msg_start, len(result))\n",
            "/usr/local/lib/python3.7/dist-packages/sklearn/metrics/_classification.py:1318: UndefinedMetricWarning: Recall and F-score are ill-defined and being set to 0.0 in labels with no true samples. Use `zero_division` parameter to control this behavior.\n",
            "  _warn_prf(average, modifier, msg_start, len(result))\n"
          ]
        }
      ]
    },
    {
      "cell_type": "code",
      "source": [
        "import seaborn as sn\n",
        "import matplotlib.pyplot as plt\n",
        "import pandas as pd\n",
        "from sklearn.metrics import confusion_matrix"
      ],
      "metadata": {
        "id": "iDak3snGjmGC"
      },
      "execution_count": 20,
      "outputs": []
    },
    {
      "cell_type": "code",
      "source": [
        "col1= set(Sentence1)\n",
        "col2= set(Sentence2)\n",
        "dic = col1.union(col2)\n",
        "array= confusion_matrix(Sentence1,Sentence2)\n",
        "df_cm = pd.DataFrame(array, index=dic) \n",
        "df_cm\n",
        "plt.figure(figsize = (10,7))\n",
        "sn.heatmap(df_cm, annot=True, annot_kws={\"size\": 16}) "
      ],
      "metadata": {
        "colab": {
          "base_uri": "https://localhost:8080/",
          "height": 450
        },
        "id": "Lp-c7HdvlkYl",
        "outputId": "f67c1ec7-308d-4d2e-d0e9-56b83f9bea12"
      },
      "execution_count": 38,
      "outputs": [
        {
          "output_type": "execute_result",
          "data": {
            "text/plain": [
              "<matplotlib.axes._subplots.AxesSubplot at 0x7fcede663d10>"
            ]
          },
          "metadata": {},
          "execution_count": 38
        },
        {
          "output_type": "display_data",
          "data": {
            "text/plain": [
              "<Figure size 720x504 with 2 Axes>"
            ],
            "image/png": "[encoded data removed]"
          },
          "metadata": {
            "needs_background": "light"
          }
        }
      ]
    },
    {
      "cell_type": "code",
      "source": [
        "def _edit_dist_init(len1, len2):\n",
        "    lev = []\n",
        "    for i in range(len1):\n",
        "        lev.append([0] * len2)  \n",
        "    for i in range(len1):\n",
        "        lev[i][0] = i  \n",
        "    for j in range(len2):\n",
        "        lev[0][j] = j \n",
        "    return lev"
      ],
      "metadata": {
        "id": "ztQwS7yvpXRk"
      },
      "execution_count": 39,
      "outputs": []
    },
    {
      "cell_type": "code",
      "source": [
        "def _edit_dist_step(\n",
        "    lev, i, j, s1, s2, last_left, last_right, substitution_cost=1, transpositions=False\n",
        "):\n",
        "    c1 = s1[i - 1]\n",
        "    c2 = s2[j - 1]\n",
        "\n",
        "    a = lev[i - 1][j] + 1\n",
        "\n",
        "    b = lev[i][j - 1] + 1\n",
        "\n",
        "    c = lev[i - 1][j - 1] + (substitution_cost if c1 != c2 else 0)\n",
        "\n",
        "\n",
        "    d = c + 1  \n",
        "    if transpositions and last_left > 0 and last_right > 0:\n",
        "        d = lev[last_left - 1][last_right - 1] + i - last_left + j - last_right - 1\n",
        "\n",
        "\n",
        "    lev[i][j] = min(a, b, c, d)"
      ],
      "metadata": {
        "id": "X54-5oj4p30n"
      },
      "execution_count": 40,
      "outputs": []
    },
    {
      "cell_type": "code",
      "source": [
        "def edit_distance(s1, s2, transpositions=False):\n",
        "    len1 = len(s1)\n",
        "    len2 = len(s2)\n",
        "    lev = _edit_dist_init(len1 + 1, len2 + 1)\n",
        "\n",
        "    for i in range(len1):\n",
        "        for j in range(len2):\n",
        "           ـedit_dist_step(lev,i+1,j+1,s1,s2,transpositions=transpositions)\n",
        "    return lev[len1][len2]\n"
      ],
      "metadata": {
        "id": "vHirmy_1p9aK"
      },
      "execution_count": 41,
      "outputs": []
    },
    {
      "cell_type": "code",
      "source": [
        "from nltk.metrics import *\n",
        "edit_distance(\"relate\",\"relation\") "
      ],
      "metadata": {
        "colab": {
          "base_uri": "https://localhost:8080/"
        },
        "id": "IMBPDckkm1EG",
        "outputId": "51a8e184-0fa7-461e-b8b6-6ec182c4e529"
      },
      "execution_count": 42,
      "outputs": [
        {
          "output_type": "execute_result",
          "data": {
            "text/plain": [
              "3"
            ]
          },
          "metadata": {},
          "execution_count": 42
        }
      ]
    },
    {
      "cell_type": "code",
      "source": [
        "def jacc_similarity(query, document):\n",
        " first=set(query).intersection(set(document))\n",
        " second=set(query).union(set(document))\n",
        " return len(first)/len(second) "
      ],
      "metadata": {
        "id": "BbMdRdnInKcv"
      },
      "execution_count": 43,
      "outputs": []
    },
    {
      "cell_type": "code",
      "source": [
        "X=set(Sentence1)\n",
        "Y=set(Sentence2)\n",
        "print(jaccard_distance(X,Y)) "
      ],
      "metadata": {
        "colab": {
          "base_uri": "https://localhost:8080/"
        },
        "id": "5UqQQmv5nPL9",
        "outputId": "f55f2bda-e5db-436f-bae8-b85ded2d407f"
      },
      "execution_count": 44,
      "outputs": [
        {
          "output_type": "stream",
          "name": "stdout",
          "text": [
            "0.3\n"
          ]
        }
      ]
    },
    {
      "cell_type": "code",
      "source": [
        "def binary_distance(label1, label2):\n",
        " return 0.0 if label1 == label2 else 1.0\n",
        " \n",
        "import nltk\n",
        "from nltk.metrics import *\n",
        "X=set(Sentence1)\n",
        "Y=set(Sentence2)\n",
        "binary_distance(X, Y) "
      ],
      "metadata": {
        "colab": {
          "base_uri": "https://localhost:8080/"
        },
        "id": "C9pzDxqlnSgR",
        "outputId": "21e9ebb5-d0e9-4dad-a02d-3c2f4994ecd7"
      },
      "execution_count": 45,
      "outputs": [
        {
          "output_type": "execute_result",
          "data": {
            "text/plain": [
              "1.0"
            ]
          },
          "metadata": {},
          "execution_count": 45
        }
      ]
    },
    {
      "cell_type": "code",
      "source": [
        "def masi(label1, label2):\n",
        "  len_intersection = len(label1.intersection(label2))\n",
        "  len_union = len(label1.union(label2))\n",
        "  len_label1 = len(label1)\n",
        "  len_label2 = len(label2) \n",
        "  if len_label1 == len_label2 and len_label1 == len_intersection:\n",
        "    m = 1\n",
        "  elif len_intersection == min(len_label1, len_label2):\n",
        "    m = 0.67\n",
        "  elif len_intersection > 0:\n",
        "    m = 0.33\n",
        "  else:\n",
        "    m = 0\n",
        "  return 1 - (len_intersection / float(len_union)) * m\n",
        "X=set([10,20,30,40])\n",
        "Y=set([30,50,70])\n",
        "masi(X, Y) "
      ],
      "metadata": {
        "colab": {
          "base_uri": "https://localhost:8080/"
        },
        "id": "7CEgMV2ir3Ky",
        "outputId": "1770858a-7ae0-4d34-e0cd-ef855818d3b6"
      },
      "execution_count": 46,
      "outputs": [
        {
          "output_type": "execute_result",
          "data": {
            "text/plain": [
              "0.945"
            ]
          },
          "metadata": {},
          "execution_count": 46
        }
      ]
    },
    {
      "cell_type": "code",
      "source": [],
      "metadata": {
        "id": "pHhYznbmr8s9"
      },
      "execution_count": null,
      "outputs": []
    }
  ]
}