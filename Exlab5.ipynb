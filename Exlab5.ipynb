{
  "nbformat": 4,
  "nbformat_minor": 0,
  "metadata": {
    "colab": {
      "provenance": [],
      "authorship_tag": "ABX9TyPJ88hav6esD2EVAASlUHBM",
      "include_colab_link": true
    },
    "kernelspec": {
      "name": "python3",
      "display_name": "Python 3"
    },
    "language_info": {
      "name": "python"
    }
  },
  "cells": [
    {
      "cell_type": "markdown",
      "metadata": {
        "id": "view-in-github",
        "colab_type": "text"
      },
      "source": [
        "<a href=\"https://colab.research.google.com/github/fedhah/DS/blob/main/Exlab5.ipynb\" target=\"_parent\"><img src=\"https://colab.research.google.com/assets/colab-badge.svg\" alt=\"Open In Colab\"/></a>"
      ]
    },
    {
      "cell_type": "code",
      "execution_count": 1,
      "metadata": {
        "colab": {
          "base_uri": "https://localhost:8080/"
        },
        "id": "apG8fGjDj9qf",
        "outputId": "553a026b-322f-49c0-aed9-373b22580c58"
      },
      "outputs": [
        {
          "output_type": "stream",
          "name": "stdout",
          "text": [
            "Looking in indexes: https://pypi.org/simple, https://us-python.pkg.dev/colab-wheels/public/simple/\n",
            "Requirement already satisfied: nltk in /usr/local/lib/python3.7/dist-packages (3.7)\n",
            "Requirement already satisfied: joblib in /usr/local/lib/python3.7/dist-packages (from nltk) (1.2.0)\n",
            "Requirement already satisfied: regex>=2021.8.3 in /usr/local/lib/python3.7/dist-packages (from nltk) (2022.6.2)\n",
            "Requirement already satisfied: click in /usr/local/lib/python3.7/dist-packages (from nltk) (7.1.2)\n",
            "Requirement already satisfied: tqdm in /usr/local/lib/python3.7/dist-packages (from nltk) (4.64.1)\n"
          ]
        }
      ],
      "source": [
        "!pip install nltk"
      ]
    },
    {
      "cell_type": "code",
      "source": [
        "from __future__ import print_function\n",
        "from nltk.metrics import *"
      ],
      "metadata": {
        "id": "5LM5J92Nj_CX"
      },
      "execution_count": 2,
      "outputs": []
    },
    {
      "cell_type": "code",
      "source": [
        "file1 = open('/content/file1.txt')\n",
        "file2= open('/content/file2.txt')\n"
      ],
      "metadata": {
        "id": "fudZhVYdkCgn"
      },
      "execution_count": 4,
      "outputs": []
    },
    {
      "cell_type": "code",
      "source": [
        "file1 =file1.read().split()\n",
        "file2 = file2.read().split()"
      ],
      "metadata": {
        "id": "4gtk6zdukIGu"
      },
      "execution_count": 5,
      "outputs": []
    },
    {
      "cell_type": "code",
      "source": [
        "print(accuracy(file1,file2))\n",
        "setfile1 =set(file1)\n",
        "setfile2 = set(file2)\n",
        "\n",
        "precision= precision(setfile1,setfile2)\n",
        "recall= recall(setfile1,setfile2)\n",
        "\n",
        "print('precision =',precision)\n",
        "print('recall=',recall)\n",
        "\n",
        "f_measure= (2* precision * recall)/(precision+recall)\n",
        "print('f-measure=',f_measure)"
      ],
      "metadata": {
        "colab": {
          "base_uri": "https://localhost:8080/"
        },
        "id": "eXv0T4CukRfr",
        "outputId": "68393208-a069-4dce-f6ec-e09d272952cf"
      },
      "execution_count": 6,
      "outputs": [
        {
          "output_type": "stream",
          "name": "stdout",
          "text": [
            "0.007407407407407408\n",
            "precision = 0.5102040816326531\n",
            "recall= 0.49019607843137253\n",
            "f-measure= 0.5\n"
          ]
        }
      ]
    },
    {
      "cell_type": "code",
      "source": [
        "from sklearn.metrics import classification_report\n",
        "classification_report = classification_report(file1,file2)\n",
        "print('classification report \\n', classification_report)"
      ],
      "metadata": {
        "colab": {
          "base_uri": "https://localhost:8080/"
        },
        "id": "FSadFNickXNe",
        "outputId": "9dfa7a95-a670-41ab-fb52-dc9e21bfb984"
      },
      "execution_count": 7,
      "outputs": [
        {
          "output_type": "stream",
          "name": "stdout",
          "text": [
            "classification report \n",
            "                 precision    recall  f1-score   support\n",
            "\n",
            "          20th       0.00      0.00      0.00         1\n",
            "      BLESSING       0.00      0.00      0.00         0\n",
            "         CURSE       0.00      0.00      0.00         0\n",
            "         DAILY       0.00      0.00      0.00         1\n",
            "         Early       0.00      0.00      0.00         1\n",
            "         GIFTS       0.00      0.00      0.00         1\n",
            "            IN       0.00      0.00      0.00         1\n",
            "            In       0.00      0.00      0.00         1\n",
            "            It       0.00      0.00      0.00         0\n",
            "          LIFE       0.00      0.00      0.00         1\n",
            "     Likewise,       0.00      0.00      0.00         0\n",
            "           Now       0.00      0.00      0.00         1\n",
            "            OF       0.00      0.00      0.00         1\n",
            "            OR       1.00      1.00      1.00         1\n",
            "       SCIENCE       0.00      0.00      0.00         2\n",
            "       Science       0.00      0.00      0.00         0\n",
            "      Science.       0.00      0.00      0.00         0\n",
            "         Space       0.00      0.00      0.00         0\n",
            "            TV       0.00      0.00      0.00         1\n",
            "           TV,       0.00      0.00      0.00         1\n",
            "    Telephones       0.00      0.00      0.00         1\n",
            "           The       0.00      0.00      0.00         3\n",
            "          Thus       0.00      0.00      0.00         0\n",
            "      Vehicles       0.00      0.00      0.00         1\n",
            "            We       0.00      0.00      0.00         2\n",
            "          When       0.00      0.00      0.00         1\n",
            "           Yet       0.00      0.00      0.00         0\n",
            "             a       0.00      0.00      0.00         2\n",
            "        abuses       0.00      0.00      0.00         0\n",
            "           age       0.00      0.00      0.00         1\n",
            "         alarm       0.00      0.00      0.00         1\n",
            "            an       0.00      0.00      0.00         1\n",
            "           and       0.00      0.00      0.00         3\n",
            "       another       0.00      0.00      0.00         0\n",
            "           are       0.00      0.00      0.00         2\n",
            "            at       0.00      0.00      0.00         1\n",
            "       benefit       0.00      0.00      0.00         1\n",
            "        bored,       0.00      0.00      0.00         1\n",
            "       brought       0.00      0.00      0.00         1\n",
            "       burning       0.00      0.00      0.00         0\n",
            "           but       0.00      0.00      0.00         0\n",
            "           can       0.00      0.00      0.00         2\n",
            "         carry       0.00      0.00      0.00         1\n",
            "          cave       0.00      0.00      0.00         0\n",
            "      century,       0.00      0.00      0.00         1\n",
            "       cinema.       0.00      0.00      0.00         1\n",
            "     civilized       0.00      0.00      0.00         1\n",
            "         clock       0.00      0.00      0.00         1\n",
            "communication.       0.00      0.00      0.00         1\n",
            "     computer,       0.00      0.00      0.00         1\n",
            "    computers,       0.00      0.00      0.00         0\n",
            "       cooking       0.00      0.00      0.00         0\n",
            "     dependent       0.00      0.00      0.00         1\n",
            "           did       0.00      0.00      0.00         1\n",
            "       distant       0.00      0.00      0.00         1\n",
            "       drawing       0.00      0.00      0.00         1\n",
            "         drugs       0.00      0.00      0.00         1\n",
            "        easier       0.00      0.00      0.00         0\n",
            "         enjoy       0.00      0.00      0.00         1\n",
            "     enjoyable       0.00      0.00      0.00         1\n",
            "          etc.       0.00      0.00      0.00         1\n",
            "         every       0.00      0.00      0.00         1\n",
            "         fact,       0.00      0.00      0.00         1\n",
            "          fan,       0.00      0.00      0.00         1\n",
            "         fault       0.00      0.00      0.00         0\n",
            "          feel       0.00      0.00      0.00         1\n",
            "          fire       0.00      0.00      0.00         0\n",
            "         fire,       0.00      0.00      0.00         0\n",
            "         fire.       0.00      0.00      0.00         1\n",
            "        flight       0.00      0.00      0.00         0\n",
            "          food       0.00      0.00      0.00         1\n",
            "           for       0.00      0.00      0.00         0\n",
            "           get       0.00      0.00      0.00         2\n",
            "          gift       0.00      0.00      0.00         1\n",
            "         gifts       0.00      0.00      0.00         1\n",
            "      greatest       0.00      0.00      0.00         1\n",
            "          grow       0.00      0.00      0.00         1\n",
            "           had       0.00      0.00      0.00         0\n",
            "           has       0.00      0.00      0.00         3\n",
            "          has.       0.00      0.00      0.00         1\n",
            "          have       0.00      0.00      0.00         1\n",
            "       houses.       0.00      0.00      0.00         0\n",
            "           how       0.00      0.00      0.00         1\n",
            "      improved       0.00      0.00      0.00         1\n",
            "            in       0.00      0.00      0.00         2\n",
            "     influence       0.00      0.00      0.00         1\n",
            "          into       0.00      0.00      0.00         1\n",
            "            is       0.00      0.00      0.00         0\n",
            "           its       0.00      0.00      0.00         1\n",
            "          know       0.00      0.00      0.00         1\n",
            "        landed       0.00      0.00      0.00         0\n",
            "          life       0.00      0.00      0.00         0\n",
            "         life.       0.00      0.00      0.00         1\n",
            "        light,       0.00      0.00      0.00         1\n",
            "       lights,       0.00      0.00      0.00         0\n",
            "          live       0.00      0.00      0.00         1\n",
            "         lived       0.00      0.00      0.00         0\n",
            "         lives       0.00      0.00      0.00         1\n",
            "          made       0.00      0.00      0.00         1\n",
            "           man       0.00      0.00      0.00         0\n",
            "          man.       0.00      0.00      0.00         1\n",
            "        media,       0.00      0.00      0.00         0\n",
            "           men       0.00      0.00      0.00         1\n",
            "        modern       0.00      0.00      0.00         1\n",
            "         moon.       0.00      0.00      0.00         0\n",
            "          more       0.00      0.00      0.00         1\n",
            "     newspaper       0.00      0.00      0.00         1\n",
            "           not       0.00      0.00      0.00         1\n",
            "           now       0.00      0.00      0.00         0\n",
            "            of       0.00      0.00      0.00         6\n",
            "            on       0.00      0.00      0.00         1\n",
            "          once       0.00      0.00      0.00         0\n",
            "            or       0.00      0.00      0.00         2\n",
            "       other’s       0.00      0.00      0.00         0\n",
            "           our       0.00      0.00      0.00         3\n",
            "        places       0.00      0.00      0.00         1\n",
            "      products       0.00      0.00      0.00         1\n",
            "        radio,       0.00      0.00      0.00         1\n",
            " refrigerator,       0.00      0.00      0.00         1\n",
            "   responsible       0.00      0.00      0.00         0\n",
            "        rooms.       0.00      0.00      0.00         1\n",
            "       science       0.00      0.00      0.00         3\n",
            "      science,       0.00      0.00      0.00         0\n",
            "      science.       0.00      0.00      0.00         2\n",
            "         short       0.00      0.00      0.00         1\n",
            "          some       0.00      0.00      0.00         0\n",
            "          step       0.00      0.00      0.00         1\n",
            "       surgery       0.00      0.00      0.00         1\n",
            "   telephones,       0.00      0.00      0.00         0\n",
            "           the       0.00      0.00      0.00         6\n",
            "         there       0.00      0.00      0.00         0\n",
            "         this.       0.00      0.00      0.00         0\n",
            "       through       0.00      0.00      0.00         0\n",
            "         time.       0.00      0.00      0.00         1\n",
            "            to       0.00      0.00      0.00         2\n",
            "       totally       0.00      0.00      0.00         1\n",
            "            us       0.00      0.00      0.00         2\n",
            "           use       0.00      0.00      0.00         1\n",
            "        users.       0.00      0.00      0.00         0\n",
            "          uses       0.00      0.00      0.00         0\n",
            "     vehicles,       0.00      0.00      0.00         0\n",
            "         wakes       0.00      0.00      0.00         1\n",
            "            we       0.00      0.00      0.00         3\n",
            "         which       0.00      0.00      0.00         1\n",
            "           who       0.00      0.00      0.00         0\n",
            "         whole       0.00      0.00      0.00         1\n",
            "          with       0.00      0.00      0.00         1\n",
            "        wonder       0.00      0.00      0.00         0\n",
            "         world       0.00      0.00      0.00         1\n",
            "             –       0.00      0.00      0.00         0\n",
            "\n",
            "      accuracy                           0.01       135\n",
            "     macro avg       0.01      0.01      0.01       135\n",
            "  weighted avg       0.01      0.01      0.01       135\n",
            "\n"
          ]
        },
        {
          "output_type": "stream",
          "name": "stderr",
          "text": [
            "/usr/local/lib/python3.7/dist-packages/sklearn/metrics/_classification.py:1318: UndefinedMetricWarning: Precision and F-score are ill-defined and being set to 0.0 in labels with no predicted samples. Use `zero_division` parameter to control this behavior.\n",
            "  _warn_prf(average, modifier, msg_start, len(result))\n",
            "/usr/local/lib/python3.7/dist-packages/sklearn/metrics/_classification.py:1318: UndefinedMetricWarning: Recall and F-score are ill-defined and being set to 0.0 in labels with no true samples. Use `zero_division` parameter to control this behavior.\n",
            "  _warn_prf(average, modifier, msg_start, len(result))\n",
            "/usr/local/lib/python3.7/dist-packages/sklearn/metrics/_classification.py:1318: UndefinedMetricWarning: Precision and F-score are ill-defined and being set to 0.0 in labels with no predicted samples. Use `zero_division` parameter to control this behavior.\n",
            "  _warn_prf(average, modifier, msg_start, len(result))\n",
            "/usr/local/lib/python3.7/dist-packages/sklearn/metrics/_classification.py:1318: UndefinedMetricWarning: Recall and F-score are ill-defined and being set to 0.0 in labels with no true samples. Use `zero_division` parameter to control this behavior.\n",
            "  _warn_prf(average, modifier, msg_start, len(result))\n",
            "/usr/local/lib/python3.7/dist-packages/sklearn/metrics/_classification.py:1318: UndefinedMetricWarning: Precision and F-score are ill-defined and being set to 0.0 in labels with no predicted samples. Use `zero_division` parameter to control this behavior.\n",
            "  _warn_prf(average, modifier, msg_start, len(result))\n",
            "/usr/local/lib/python3.7/dist-packages/sklearn/metrics/_classification.py:1318: UndefinedMetricWarning: Recall and F-score are ill-defined and being set to 0.0 in labels with no true samples. Use `zero_division` parameter to control this behavior.\n",
            "  _warn_prf(average, modifier, msg_start, len(result))\n"
          ]
        }
      ]
    },
    {
      "cell_type": "code",
      "source": [
        "import seaborn as sn\n",
        "import matplotlib.pyplot as plt\n",
        "import pandas as pd\n",
        "from sklearn.metrics import confusion_matrix"
      ],
      "metadata": {
        "id": "VAq-BNvXkcHW"
      },
      "execution_count": 8,
      "outputs": []
    },
    {
      "cell_type": "code",
      "source": [
        "col1= set(file1)\n",
        "col2= set(file2)\n",
        "dic = col1.union(col2)\n",
        "array= confusion_matrix(file1,file2)\n",
        "df_cm = pd.DataFrame(array, index=dic) \n",
        "df_cm\n",
        "plt.figure(figsize = (10,7))\n",
        "sn.heatmap(df_cm, annot=True, annot_kws={\"size\": 16}) "
      ],
      "metadata": {
        "colab": {
          "base_uri": "https://localhost:8080/",
          "height": 462
        },
        "id": "7dfhGvT2kmtd",
        "outputId": "219d74e0-c641-4184-b302-cc20e5808277"
      },
      "execution_count": 10,
      "outputs": [
        {
          "output_type": "execute_result",
          "data": {
            "text/plain": [
              "<matplotlib.axes._subplots.AxesSubplot at 0x7f008e290510>"
            ]
          },
          "metadata": {},
          "execution_count": 10
        },
        {
          "output_type": "display_data",
          "data": {
            "text/plain": [
              "<Figure size 720x504 with 2 Axes>"
            ],
            "image/png": "[encoded data removed]"
          },
          "metadata": {
            "needs_background": "light"
          }
        }
      ]
    },
    {
      "cell_type": "code",
      "source": [
        "def jacc_similarity(query, document):\n",
        " first=set(query).intersection(set(document))\n",
        " second=set(query).union(set(document))\n",
        " return len(first)/len(second) "
      ],
      "metadata": {
        "id": "yPWpe-Bnkr-J"
      },
      "execution_count": 12,
      "outputs": []
    },
    {
      "cell_type": "code",
      "source": [
        "X=set(file1)\n",
        "Y=set(file2)\n",
        "print(jaccard_distance(X,Y)) "
      ],
      "metadata": {
        "colab": {
          "base_uri": "https://localhost:8080/"
        },
        "id": "vp_OAe8_nMLc",
        "outputId": "ce175697-cee8-471e-ec7c-bec30fb5113a"
      },
      "execution_count": 13,
      "outputs": [
        {
          "output_type": "stream",
          "name": "stdout",
          "text": [
            "0.6666666666666666\n"
          ]
        }
      ]
    },
    {
      "cell_type": "code",
      "source": [],
      "metadata": {
        "id": "NGqro3BdnarS"
      },
      "execution_count": null,
      "outputs": []
    }
  ]
}