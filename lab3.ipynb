{
  "nbformat": 4,
  "nbformat_minor": 0,
  "metadata": {
    "colab": {
      "provenance": [],
      "authorship_tag": "ABX9TyM0alpXYuTYMEa2oDXf6NkB",
      "include_colab_link": true
    },
    "kernelspec": {
      "name": "python3",
      "display_name": "Python 3"
    },
    "language_info": {
      "name": "python"
    }
  },
  "cells": [
    {
      "cell_type": "markdown",
      "metadata": {
        "id": "view-in-github",
        "colab_type": "text"
      },
      "source": [
        "<a href=\"https://colab.research.google.com/github/fedhah/DS/blob/main/lab3.ipynb\" target=\"_parent\"><img src=\"https://colab.research.google.com/assets/colab-badge.svg\" alt=\"Open In Colab\"/></a>"
      ]
    },
    {
      "cell_type": "code",
      "source": [
        "import re"
      ],
      "metadata": {
        "id": "VzhfV2vNWhvT"
      },
      "execution_count": 17,
      "outputs": []
    },
    {
      "cell_type": "code",
      "execution_count": 16,
      "metadata": {
        "colab": {
          "base_uri": "https://localhost:8080/"
        },
        "id": "0LreK4puS59m",
        "outputId": "7c68bf94-570a-4b27-a487-b71fad20cd20"
      },
      "outputs": [
        {
          "output_type": "stream",
          "name": "stdout",
          "text": [
            "YES! We have a match!\n"
          ]
        }
      ],
      "source": [
        "#W3SCHOOLS\n",
        "txt = \"The rain in Spain\"\n",
        "x = re.search(\"^The.*Spain$\", txt)\n",
        "\n",
        "if x:\n",
        "  print(\"YES! We have a match!\")\n",
        "else:\n",
        "  print(\"No match\")\n"
      ]
    },
    {
      "cell_type": "code",
      "source": [
        "#LAB3\n",
        "txt = \"Regular expression is a sequence of character(s) mainly used to find and replace patterns in a string or file\"\n",
        "x = re.search(\"^Regular.*file$\",txt)\n",
        "\n",
        "if x:\n",
        "  print(\"YES! We have a match!\")\n",
        "else:\n",
        "  print(\"No match\")"
      ],
      "metadata": {
        "colab": {
          "base_uri": "https://localhost:8080/"
        },
        "id": "vICWHL8FWgWO",
        "outputId": "9ee0a044-dc91-48b5-fd82-63549f95096f"
      },
      "execution_count": 21,
      "outputs": [
        {
          "output_type": "stream",
          "name": "stdout",
          "text": [
            "YES! We have a match!\n"
          ]
        }
      ]
    },
    {
      "cell_type": "code",
      "source": [
        "#W3SCHOOLS\n",
        "#Return a list containing every occurrence of \"ai\":\n",
        "\n",
        "txt = \"The rain in Spain\"\n",
        "x = re.findall(\"ai\", txt)\n",
        "print(x)"
      ],
      "metadata": {
        "colab": {
          "base_uri": "https://localhost:8080/"
        },
        "id": "nFbF-pVEUzvY",
        "outputId": "e16262ee-b4a9-4b61-dc68-b0daa42f0749"
      },
      "execution_count": 22,
      "outputs": [
        {
          "output_type": "stream",
          "name": "stdout",
          "text": [
            "['ai', 'ai']\n"
          ]
        }
      ]
    },
    {
      "cell_type": "code",
      "source": [
        "#W3SCHOOLS\n",
        "\n",
        "txt = \"The rain in Spain\"\n",
        "\n",
        "#Check if \"Portugal\" is in the string:\n",
        "\n",
        "x = re.findall(\"Portugal\", txt)\n",
        "print(x)\n",
        "\n",
        "if (x):\n",
        "  print(\"Yes, there is at least one match!\")\n",
        "else:\n",
        "  print(\"No match\")\n"
      ],
      "metadata": {
        "colab": {
          "base_uri": "https://localhost:8080/"
        },
        "id": "ozyTQSz5VhFG",
        "outputId": "0dfa4aba-0843-4965-e8f9-c65aeb9e8d76"
      },
      "execution_count": 23,
      "outputs": [
        {
          "output_type": "stream",
          "name": "stdout",
          "text": [
            "[]\n",
            "No match\n"
          ]
        }
      ]
    },
    {
      "cell_type": "code",
      "source": [
        "#W3SCHOOLS\n",
        "\n",
        "txt = \"The rain in Spain\"\n",
        "x = re.search(\"\\s\", txt)\n",
        "\n",
        "print(\"The first white-space character is located in position:\", x.start()) "
      ],
      "metadata": {
        "colab": {
          "base_uri": "https://localhost:8080/"
        },
        "id": "SYlFjLKmVltX",
        "outputId": "1f579bfb-6514-4f79-95da-287d23d94c4d"
      },
      "execution_count": 24,
      "outputs": [
        {
          "output_type": "stream",
          "name": "stdout",
          "text": [
            "The first white-space character is located in position: 3\n"
          ]
        }
      ]
    },
    {
      "cell_type": "code",
      "source": [
        "#W3SCHOOLS\n",
        "\n",
        "txt = \"The rain in Spain\"\n",
        "x = re.search(\"Portugal\", txt)\n",
        "print(x)"
      ],
      "metadata": {
        "colab": {
          "base_uri": "https://localhost:8080/"
        },
        "id": "uRAOa6cYVqeK",
        "outputId": "8ec687bc-ed24-43d1-fc87-858d9a00c094"
      },
      "execution_count": 25,
      "outputs": [
        {
          "output_type": "stream",
          "name": "stdout",
          "text": [
            "None\n"
          ]
        }
      ]
    },
    {
      "cell_type": "code",
      "source": [
        "#W3SCHOOLS\n",
        "#Split the string at every white-space character:\n",
        "\n",
        "txt = \"The rain in Spain\"\n",
        "x = re.split(\"\\s\", txt)\n",
        "print(x)"
      ],
      "metadata": {
        "colab": {
          "base_uri": "https://localhost:8080/"
        },
        "id": "X3InCJeRVvqk",
        "outputId": "75979447-9954-4d14-e1a9-f4622299e727"
      },
      "execution_count": 26,
      "outputs": [
        {
          "output_type": "stream",
          "name": "stdout",
          "text": [
            "['The', 'rain', 'in', 'Spain']\n"
          ]
        }
      ]
    },
    {
      "cell_type": "code",
      "source": [
        "#W3SCHOOLS\n",
        "\n",
        "#Split the string at the first white-space character:\n",
        "\n",
        "txt = \"The rain in Spain\"\n",
        "x = re.split(\"\\s\", txt, 1)\n",
        "print(x)\n"
      ],
      "metadata": {
        "colab": {
          "base_uri": "https://localhost:8080/"
        },
        "id": "N8GRdgc3VyrD",
        "outputId": "9335a3e7-0d01-45e1-ab99-7b613e997976"
      },
      "execution_count": 27,
      "outputs": [
        {
          "output_type": "stream",
          "name": "stdout",
          "text": [
            "['The', 'rain in Spain']\n"
          ]
        }
      ]
    },
    {
      "cell_type": "code",
      "source": [
        "#W3SCHOOLS\n",
        "\n",
        "#Replace all white-space characters with the digit \"9\":\n",
        "\n",
        "txt = \"The rain in Spain\"\n",
        "x = re.sub(\"\\s\", \"9\", txt)\n",
        "print(x)"
      ],
      "metadata": {
        "colab": {
          "base_uri": "https://localhost:8080/"
        },
        "id": "iv6OUNjJV1nm",
        "outputId": "2fa23fc8-8119-4d5b-9899-8955f5fb7d69"
      },
      "execution_count": 28,
      "outputs": [
        {
          "output_type": "stream",
          "name": "stdout",
          "text": [
            "The9rain9in9Spain\n"
          ]
        }
      ]
    },
    {
      "cell_type": "code",
      "source": [
        "#W3SCHOOLS\n",
        "\n",
        "#Replace the first two occurrences of a white-space character with the digit 9:\n",
        "\n",
        "txt = \"The rain in Spain\"\n",
        "x = re.sub(\"\\s\", \"9\", txt, 2)\n",
        "print(x)"
      ],
      "metadata": {
        "colab": {
          "base_uri": "https://localhost:8080/"
        },
        "id": "9ItiEmFyV6kh",
        "outputId": "ecfae6ba-efc9-4b1c-c1cc-79171442cafc"
      },
      "execution_count": 29,
      "outputs": [
        {
          "output_type": "stream",
          "name": "stdout",
          "text": [
            "The9rain9in Spain\n"
          ]
        }
      ]
    },
    {
      "cell_type": "code",
      "source": [
        "replacement_patterns = [\n",
        "\n",
        "(r'won\\'t', 'will not'),\n",
        "\n",
        "(r'can\\'t', 'cannot'),\n",
        "\n",
        "(r'i\\'m', 'i am'),\n",
        "\n",
        "(r'ain\\'t', 'is not'),\n",
        "\n",
        "(r'(\\w+)\\'ll', '\\g<1> will'),\n",
        "\n",
        "(r'(\\w+)n\\'t', '\\g<1> not'),\n",
        "\n",
        "(r'(\\w+)\\'ve', '\\g<1> have'),\n",
        "\n",
        "(r'(\\w+)\\'s', '\\g<1> is'),\n",
        "\n",
        "(r'(\\w+)\\'re', '\\g<1> are'),\n",
        "\n",
        "(r'(\\w+)\\'d', '\\g<1> would')\n",
        "\n",
        "]"
      ],
      "metadata": {
        "id": "ebN-FqtyZtwF"
      },
      "execution_count": 34,
      "outputs": []
    },
    {
      "cell_type": "code",
      "source": [
        "#LAB3 EX2\n",
        "from os import replace\n",
        "class RegexpReplacer(object):\n",
        "  def __init__(self, patterns=replacement_patterns):\n",
        "    self.patterns = [(re.compile(regex), repl) for (regex, repl)in patterns]\n",
        "  def replace(self, text):\n",
        "      s = text\n",
        "      for (pattern, repl) in self.patterns:\n",
        "          (s, count) = re.subn(pattern, repl, s)\n",
        "      return s \n",
        "\n",
        "Sentence1=\"We'll see how to replace words using regular expressions such doesn't, can’t and so on\"\n",
        "\n",
        "replacer=RegexpReplacer()\n",
        "print(replacer.replace(Sentence1))\n"
      ],
      "metadata": {
        "colab": {
          "base_uri": "https://localhost:8080/"
        },
        "id": "wIh_4ENZZ9Ct",
        "outputId": "fa328f0d-56af-43e7-d83f-693b08c1eb09"
      },
      "execution_count": 47,
      "outputs": [
        {
          "output_type": "stream",
          "name": "stdout",
          "text": [
            "We will see how to replace words using regular expressions such does not, can’t and so on\n"
          ]
        }
      ]
    },
    {
      "cell_type": "code",
      "source": [
        "class RepeatReplacer(object):\n",
        "  def __init__(self):\n",
        "    self.repeat_regexp = re.compile(r'(\\w*)(\\w)\\2(\\w*)')\n",
        "    self.repl = r'\\1\\2\\3'\n",
        "  def replace(self, word):\n",
        "    repl_word = self.repeat_regexp.sub(self.repl, word)\n",
        "    if repl_word != word:\n",
        "      return self.replace(repl_word)\n",
        "    else:\n",
        "      return repl_word \n",
        "\n",
        "Sentence = \"We likkkkkke python\"\n",
        "replacer=RepeatReplacer()\n",
        "print(replacer.replace(Sentence))"
      ],
      "metadata": {
        "colab": {
          "base_uri": "https://localhost:8080/"
        },
        "id": "ovfDo_QTdWks",
        "outputId": "5e0d82d7-8e19-4186-deba-2d6f7e7ca139"
      },
      "execution_count": 52,
      "outputs": [
        {
          "output_type": "stream",
          "name": "stdout",
          "text": [
            "We like python\n"
          ]
        }
      ]
    },
    {
      "cell_type": "code",
      "source": [
        "#W3SCHOOLS\n",
        "#The search() function returns a Match object:\n",
        "\n",
        "txt = \"The rain in Spain\"\n",
        "x = re.search(\"ai\", txt)\n",
        "print(x)"
      ],
      "metadata": {
        "colab": {
          "base_uri": "https://localhost:8080/"
        },
        "id": "pDO78c4iV9gI",
        "outputId": "7213a597-820d-417a-970f-29cafa56f073"
      },
      "execution_count": 30,
      "outputs": [
        {
          "output_type": "stream",
          "name": "stdout",
          "text": [
            "<re.Match object; span=(5, 7), match='ai'>\n"
          ]
        }
      ]
    },
    {
      "cell_type": "code",
      "source": [
        "#W3SCHOOLS\n",
        "txt = \"The rain in Spain\"\n",
        "x = re.search(r\"\\bS\\w+\", txt)\n",
        "print(x.span())"
      ],
      "metadata": {
        "colab": {
          "base_uri": "https://localhost:8080/"
        },
        "id": "JCN1xZ5nWEPJ",
        "outputId": "3ea68221-1480-46d7-a2ff-e2a8ba9a58d9"
      },
      "execution_count": 31,
      "outputs": [
        {
          "output_type": "stream",
          "name": "stdout",
          "text": [
            "(12, 17)\n"
          ]
        }
      ]
    },
    {
      "cell_type": "code",
      "source": [
        "#W3SCHOOLS\n",
        "txt = \"The rain in Spain\"\n",
        "x = re.search(r\"\\bS\\w+\", txt)\n",
        "print(x.string)"
      ],
      "metadata": {
        "colab": {
          "base_uri": "https://localhost:8080/"
        },
        "id": "Bl3AlNh7WKfk",
        "outputId": "e925e2b8-e061-47ea-e27d-0e7e23382236"
      },
      "execution_count": 32,
      "outputs": [
        {
          "output_type": "stream",
          "name": "stdout",
          "text": [
            "The rain in Spain\n"
          ]
        }
      ]
    },
    {
      "cell_type": "code",
      "source": [
        "#W3SCHOOLS\n",
        "txt = \"The rain in Spain\"\n",
        "x = re.search(r\"\\bS\\w+\", txt)\n",
        "print(x.group())"
      ],
      "metadata": {
        "colab": {
          "base_uri": "https://localhost:8080/"
        },
        "id": "xZqKdu2RWN1V",
        "outputId": "d91786bd-957d-4937-f50e-ee48afd42acd"
      },
      "execution_count": 33,
      "outputs": [
        {
          "output_type": "stream",
          "name": "stdout",
          "text": [
            "Spain\n"
          ]
        }
      ]
    },
    {
      "cell_type": "code",
      "source": [],
      "metadata": {
        "id": "s8LRuEGrWQkK"
      },
      "execution_count": null,
      "outputs": []
    }
  ]
}