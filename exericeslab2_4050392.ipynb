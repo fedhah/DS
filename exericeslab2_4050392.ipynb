{
  "nbformat": 4,
  "nbformat_minor": 0,
  "metadata": {
    "colab": {
      "provenance": [],
      "authorship_tag": "ABX9TyP1t1pmkdtBVkfBXHbtPanN",
      "include_colab_link": true
    },
    "kernelspec": {
      "name": "python3",
      "display_name": "Python 3"
    },
    "language_info": {
      "name": "python"
    }
  },
  "cells": [
    {
      "cell_type": "markdown",
      "metadata": {
        "id": "view-in-github",
        "colab_type": "text"
      },
      "source": [
        "<a href=\"https://colab.research.google.com/github/fedhah/DS/blob/main/exericeslab2_4050392.ipynb\" target=\"_parent\"><img src=\"https://colab.research.google.com/assets/colab-badge.svg\" alt=\"Open In Colab\"/></a>"
      ]
    },
    {
      "cell_type": "code",
      "execution_count": 1,
      "metadata": {
        "id": "evKDo2MFgyCc"
      },
      "outputs": [],
      "source": [
        "import os,re\n",
        "from bs4 import BeautifulSoup\n",
        "import nltk\n",
        "from nltk.tokenize import word_tokenize"
      ]
    },
    {
      "cell_type": "code",
      "source": [
        "import nltk\n",
        "nltk.download('punkt')\n",
        "\n",
        "nltk.download('stopwords')"
      ],
      "metadata": {
        "colab": {
          "base_uri": "https://localhost:8080/"
        },
        "id": "NPi6pVCyhCT0",
        "outputId": "7b9a9bcd-cd1e-49cd-91c9-d50fabe00f2c"
      },
      "execution_count": 2,
      "outputs": [
        {
          "output_type": "stream",
          "name": "stderr",
          "text": [
            "[nltk_data] Downloading package punkt to /root/nltk_data...\n",
            "[nltk_data]   Unzipping tokenizers/punkt.zip.\n",
            "[nltk_data] Downloading package stopwords to /root/nltk_data...\n",
            "[nltk_data]   Unzipping corpora/stopwords.zip.\n"
          ]
        },
        {
          "output_type": "execute_result",
          "data": {
            "text/plain": [
              "True"
            ]
          },
          "metadata": {},
          "execution_count": 2
        }
      ]
    },
    {
      "cell_type": "code",
      "source": [
        "from google.colab import files\n",
        "uploaded = files.upload()"
      ],
      "metadata": {
        "colab": {
          "base_uri": "https://localhost:8080/",
          "height": 74
        },
        "id": "jlWnKniChIMt",
        "outputId": "c44e7ecc-2fe7-4ece-f647-55c6fa61f3fb"
      },
      "execution_count": 3,
      "outputs": [
        {
          "output_type": "display_data",
          "data": {
            "text/plain": [
              "<IPython.core.display.HTML object>"
            ],
            "text/html": [
              "\n",
              "     <input type=\"file\" id=\"files-d140ba51-3cbf-4026-bbcb-89b116b8a9b0\" name=\"files[]\" multiple disabled\n",
              "        style=\"border:none\" />\n",
              "     <output id=\"result-d140ba51-3cbf-4026-bbcb-89b116b8a9b0\">\n",
              "      Upload widget is only available when the cell has been executed in the\n",
              "      current browser session. Please rerun this cell to enable.\n",
              "      </output>\n",
              "      <script>// Copyright 2017 Google LLC\n",
              "//\n",
              "// Licensed under the Apache License, Version 2.0 (the \"License\");\n",
              "// you may not use this file except in compliance with the License.\n",
              "// You may obtain a copy of the License at\n",
              "//\n",
              "//      http://www.apache.org/licenses/LICENSE-2.0\n",
              "//\n",
              "// Unless required by applicable law or agreed to in writing, software\n",
              "// distributed under the License is distributed on an \"AS IS\" BASIS,\n",
              "// WITHOUT WARRANTIES OR CONDITIONS OF ANY KIND, either express or implied.\n",
              "// See the License for the specific language governing permissions and\n",
              "// limitations under the License.\n",
              "\n",
              "/**\n",
              " * @fileoverview Helpers for google.colab Python module.\n",
              " */\n",
              "(function(scope) {\n",
              "function span(text, styleAttributes = {}) {\n",
              "  const element = document.createElement('span');\n",
              "  element.textContent = text;\n",
              "  for (const key of Object.keys(styleAttributes)) {\n",
              "    element.style[key] = styleAttributes[key];\n",
              "  }\n",
              "  return element;\n",
              "}\n",
              "\n",
              "// Max number of bytes which will be uploaded at a time.\n",
              "const MAX_PAYLOAD_SIZE = 100 * 1024;\n",
              "\n",
              "function _uploadFiles(inputId, outputId) {\n",
              "  const steps = uploadFilesStep(inputId, outputId);\n",
              "  const outputElement = document.getElementById(outputId);\n",
              "  // Cache steps on the outputElement to make it available for the next call\n",
              "  // to uploadFilesContinue from Python.\n",
              "  outputElement.steps = steps;\n",
              "\n",
              "  return _uploadFilesContinue(outputId);\n",
              "}\n",
              "\n",
              "// This is roughly an async generator (not supported in the browser yet),\n",
              "// where there are multiple asynchronous steps and the Python side is going\n",
              "// to poll for completion of each step.\n",
              "// This uses a Promise to block the python side on completion of each step,\n",
              "// then passes the result of the previous step as the input to the next step.\n",
              "function _uploadFilesContinue(outputId) {\n",
              "  const outputElement = document.getElementById(outputId);\n",
              "  const steps = outputElement.steps;\n",
              "\n",
              "  const next = steps.next(outputElement.lastPromiseValue);\n",
              "  return Promise.resolve(next.value.promise).then((value) => {\n",
              "    // Cache the last promise value to make it available to the next\n",
              "    // step of the generator.\n",
              "    outputElement.lastPromiseValue = value;\n",
              "    return next.value.response;\n",
              "  });\n",
              "}\n",
              "\n",
              "/**\n",
              " * Generator function which is called between each async step of the upload\n",
              " * process.\n",
              " * @param {string} inputId Element ID of the input file picker element.\n",
              " * @param {string} outputId Element ID of the output display.\n",
              " * @return {!Iterable<!Object>} Iterable of next steps.\n",
              " */\n",
              "function* uploadFilesStep(inputId, outputId) {\n",
              "  const inputElement = document.getElementById(inputId);\n",
              "  inputElement.disabled = false;\n",
              "\n",
              "  const outputElement = document.getElementById(outputId);\n",
              "  outputElement.innerHTML = '';\n",
              "\n",
              "  const pickedPromise = new Promise((resolve) => {\n",
              "    inputElement.addEventListener('change', (e) => {\n",
              "      resolve(e.target.files);\n",
              "    });\n",
              "  });\n",
              "\n",
              "  const cancel = document.createElement('button');\n",
              "  inputElement.parentElement.appendChild(cancel);\n",
              "  cancel.textContent = 'Cancel upload';\n",
              "  const cancelPromise = new Promise((resolve) => {\n",
              "    cancel.onclick = () => {\n",
              "      resolve(null);\n",
              "    };\n",
              "  });\n",
              "\n",
              "  // Wait for the user to pick the files.\n",
              "  const files = yield {\n",
              "    promise: Promise.race([pickedPromise, cancelPromise]),\n",
              "    response: {\n",
              "      action: 'starting',\n",
              "    }\n",
              "  };\n",
              "\n",
              "  cancel.remove();\n",
              "\n",
              "  // Disable the input element since further picks are not allowed.\n",
              "  inputElement.disabled = true;\n",
              "\n",
              "  if (!files) {\n",
              "    return {\n",
              "      response: {\n",
              "        action: 'complete',\n",
              "      }\n",
              "    };\n",
              "  }\n",
              "\n",
              "  for (const file of files) {\n",
              "    const li = document.createElement('li');\n",
              "    li.append(span(file.name, {fontWeight: 'bold'}));\n",
              "    li.append(span(\n",
              "        `(${file.type || 'n/a'}) - ${file.size} bytes, ` +\n",
              "        `last modified: ${\n",
              "            file.lastModifiedDate ? file.lastModifiedDate.toLocaleDateString() :\n",
              "                                    'n/a'} - `));\n",
              "    const percent = span('0% done');\n",
              "    li.appendChild(percent);\n",
              "\n",
              "    outputElement.appendChild(li);\n",
              "\n",
              "    const fileDataPromise = new Promise((resolve) => {\n",
              "      const reader = new FileReader();\n",
              "      reader.onload = (e) => {\n",
              "        resolve(e.target.result);\n",
              "      };\n",
              "      reader.readAsArrayBuffer(file);\n",
              "    });\n",
              "    // Wait for the data to be ready.\n",
              "    let fileData = yield {\n",
              "      promise: fileDataPromise,\n",
              "      response: {\n",
              "        action: 'continue',\n",
              "      }\n",
              "    };\n",
              "\n",
              "    // Use a chunked sending to avoid message size limits. See b/62115660.\n",
              "    let position = 0;\n",
              "    do {\n",
              "      const length = Math.min(fileData.byteLength - position, MAX_PAYLOAD_SIZE);\n",
              "      const chunk = new Uint8Array(fileData, position, length);\n",
              "      position += length;\n",
              "\n",
              "      const base64 = btoa(String.fromCharCode.apply(null, chunk));\n",
              "      yield {\n",
              "        response: {\n",
              "          action: 'append',\n",
              "          file: file.name,\n",
              "          data: base64,\n",
              "        },\n",
              "      };\n",
              "\n",
              "      let percentDone = fileData.byteLength === 0 ?\n",
              "          100 :\n",
              "          Math.round((position / fileData.byteLength) * 100);\n",
              "      percent.textContent = `${percentDone}% done`;\n",
              "\n",
              "    } while (position < fileData.byteLength);\n",
              "  }\n",
              "\n",
              "  // All done.\n",
              "  yield {\n",
              "    response: {\n",
              "      action: 'complete',\n",
              "    }\n",
              "  };\n",
              "}\n",
              "\n",
              "scope.google = scope.google || {};\n",
              "scope.google.colab = scope.google.colab || {};\n",
              "scope.google.colab._files = {\n",
              "  _uploadFiles,\n",
              "  _uploadFilesContinue,\n",
              "};\n",
              "})(self);\n",
              "</script> "
            ]
          },
          "metadata": {}
        },
        {
          "output_type": "stream",
          "name": "stdout",
          "text": [
            "Saving untitled.txt to untitled.txt\n"
          ]
        }
      ]
    },
    {
      "cell_type": "code",
      "source": [
        "from nltk.stem import PorterStemmer\n",
        "from nltk.tokenize import word_tokenize, sent_tokenize"
      ],
      "metadata": {
        "id": "_DSIu3vthKBQ"
      },
      "execution_count": 4,
      "outputs": []
    },
    {
      "cell_type": "code",
      "source": [
        "porter = PorterStemmer()"
      ],
      "metadata": {
        "id": "B2_mh2Crhj7y"
      },
      "execution_count": 7,
      "outputs": []
    },
    {
      "cell_type": "code",
      "source": [
        "filee = open(\"untitled.txt\") \n",
        "my_line_list = filee.read()\n",
        "my_line_list"
      ],
      "metadata": {
        "colab": {
          "base_uri": "https://localhost:8080/",
          "height": 161
        },
        "id": "ZL-UT0J7hP7Y",
        "outputId": "d29869a7-675a-4adc-a8f9-c0c60ba34dd1"
      },
      "execution_count": 5,
      "outputs": [
        {
          "output_type": "execute_result",
          "data": {
            "text/plain": [
              "\"The word pollution was derived from the Latin word pollution, which means to make dirty. Pollution is the process of making the environment pollute the water and the air by adding harmful substances. Pollution causes an imbalance in the environment. This imbalance threatened the very survival of all forms of life. It's a threat to the whole world. India ranks at the bottom of 125 of the 132 countries in the 2012 Environmental Performance Index. This report is produced by researchers at Yale and Columbia University in association with the World Economic Forum.\\n\\n2.Pollution of the environment is a serious problem of industrialized societies. Industrial development and the green revolution have had a negative impact on the environment. People have converted the life support system of all living people into their own resources and have greatly disrupted the natural ecological balance. Serious degradation and depletion have been caused due to overuse, abuse and mismanagement of resources to meet human greed.\\nEnvironmental pollution is defined as the adverse alteration of our environment. It is a by-product of human activities that are directly or indirectly responsible for the changes in the environment. These changes could be in the physical, chemical or biological characteristics of air or water that are harmful to human life and other living things. Population explosion, rapid industrialization, deforestation, unplanned urbanization, scientific and technological advancement, etc. The main causes of environmental pollution. About 35% of India's total area is seriously polluted. Three-quarters of the land is water, but there is a shortage of drinking water. In India, water sources are found in ponds and river lakes have been polluted and are unfit for consumption. Due to the increased use of fertilizers, seas and oceans have been contaminated with harmful pollutants.\\n\""
            ],
            "application/vnd.google.colaboratory.intrinsic+json": {
              "type": "string"
            }
          },
          "metadata": {},
          "execution_count": 5
        }
      ]
    },
    {
      "cell_type": "code",
      "source": [
        "def stemSenence(sentence):\n",
        "  token_words = word_tokenize(sentence)\n",
        "  token_words\n",
        "  stem_sentence=[]\n",
        "\n",
        "  for word in token_words:\n",
        "    stem_sentence.append(porter.stem(word))\n",
        "    stem_sentence.append(\" \")\n",
        "  return \" \".join(stem_sentence)\n",
        "\n",
        "print(my_line_list)\n",
        "print(\"stemmed sentence\")\n",
        "x=stemSenence(my_line_list)\n",
        "\n",
        "print(x)"
      ],
      "metadata": {
        "colab": {
          "base_uri": "https://localhost:8080/"
        },
        "id": "5DmRsm4RhWBH",
        "outputId": "9489db8a-6d7e-41ee-9a96-3465a642b48f"
      },
      "execution_count": 18,
      "outputs": [
        {
          "output_type": "stream",
          "name": "stdout",
          "text": [
            "The word pollution was derived from the Latin word pollution, which means to make dirty. Pollution is the process of making the environment pollute the water and the air by adding harmful substances. Pollution causes an imbalance in the environment. This imbalance threatened the very survival of all forms of life. It's a threat to the whole world. India ranks at the bottom of 125 of the 132 countries in the 2012 Environmental Performance Index. This report is produced by researchers at Yale and Columbia University in association with the World Economic Forum.\n",
            "\n",
            "2.Pollution of the environment is a serious problem of industrialized societies. Industrial development and the green revolution have had a negative impact on the environment. People have converted the life support system of all living people into their own resources and have greatly disrupted the natural ecological balance. Serious degradation and depletion have been caused due to overuse, abuse and mismanagement of resources to meet human greed.\n",
            "Environmental pollution is defined as the adverse alteration of our environment. It is a by-product of human activities that are directly or indirectly responsible for the changes in the environment. These changes could be in the physical, chemical or biological characteristics of air or water that are harmful to human life and other living things. Population explosion, rapid industrialization, deforestation, unplanned urbanization, scientific and technological advancement, etc. The main causes of environmental pollution. About 35% of India's total area is seriously polluted. Three-quarters of the land is water, but there is a shortage of drinking water. In India, water sources are found in ponds and river lakes have been polluted and are unfit for consumption. Due to the increased use of fertilizers, seas and oceans have been contaminated with harmful pollutants.\n",
            "\n",
            "stemmed sentence\n",
            "the   word   pollut   wa   deriv   from   the   latin   word   pollut   ,   which   mean   to   make   dirti   .   pollut   is   the   process   of   make   the   environ   pollut   the   water   and   the   air   by   ad   harm   substanc   .   pollut   caus   an   imbal   in   the   environ   .   thi   imbal   threaten   the   veri   surviv   of   all   form   of   life   .   it   's   a   threat   to   the   whole   world   .   india   rank   at   the   bottom   of   125   of   the   132   countri   in   the   2012   environment   perform   index   .   thi   report   is   produc   by   research   at   yale   and   columbia   univers   in   associ   with   the   world   econom   forum   .   2.pollut   of   the   environ   is   a   seriou   problem   of   industri   societi   .   industri   develop   and   the   green   revolut   have   had   a   neg   impact   on   the   environ   .   peopl   have   convert   the   life   support   system   of   all   live   peopl   into   their   own   resourc   and   have   greatli   disrupt   the   natur   ecolog   balanc   .   seriou   degrad   and   deplet   have   been   caus   due   to   overus   ,   abus   and   mismanag   of   resourc   to   meet   human   greed   .   environment   pollut   is   defin   as   the   advers   alter   of   our   environ   .   it   is   a   by-product   of   human   activ   that   are   directli   or   indirectli   respons   for   the   chang   in   the   environ   .   these   chang   could   be   in   the   physic   ,   chemic   or   biolog   characterist   of   air   or   water   that   are   harm   to   human   life   and   other   live   thing   .   popul   explos   ,   rapid   industri   ,   deforest   ,   unplan   urban   ,   scientif   and   technolog   advanc   ,   etc   .   the   main   caus   of   environment   pollut   .   about   35   %   of   india   's   total   area   is   serious   pollut   .   three-quart   of   the   land   is   water   ,   but   there   is   a   shortag   of   drink   water   .   in   india   ,   water   sourc   are   found   in   pond   and   river   lake   have   been   pollut   and   are   unfit   for   consumpt   .   due   to   the   increas   use   of   fertil   ,   sea   and   ocean   have   been   contamin   with   harm   pollut   .  \n"
          ]
        }
      ]
    },
    {
      "cell_type": "code",
      "source": [
        "from nltk.corpus import stopwords\n",
        "from nltk.tokenize import word_tokenize\n",
        "\n",
        "def reome(sentence):\n",
        " \n",
        "    terms=[]\n",
        "\n",
        "    stopWords= set(stopwords.words())\n",
        "\n",
        "    for term in sentence.split() : \n",
        "\n",
        "        if term not in stopWords :\n",
        "\n",
        "           terms.append(term)\n",
        "\n",
        "    return \" \".join(terms)\n",
        "\n",
        "print(x)\n",
        "print(\"remove Stop Words\")\n",
        "y=reome(x)\n",
        "\n",
        "print(y)\n"
      ],
      "metadata": {
        "colab": {
          "base_uri": "https://localhost:8080/"
        },
        "id": "-r_nTNLphZvI",
        "outputId": "d8de667b-b720-4a6b-cc78-ced468376107"
      },
      "execution_count": 22,
      "outputs": [
        {
          "output_type": "stream",
          "name": "stdout",
          "text": [
            "the   word   pollut   wa   deriv   from   the   latin   word   pollut   ,   which   mean   to   make   dirti   .   pollut   is   the   process   of   make   the   environ   pollut   the   water   and   the   air   by   ad   harm   substanc   .   pollut   caus   an   imbal   in   the   environ   .   thi   imbal   threaten   the   veri   surviv   of   all   form   of   life   .   it   's   a   threat   to   the   whole   world   .   india   rank   at   the   bottom   of   125   of   the   132   countri   in   the   2012   environment   perform   index   .   thi   report   is   produc   by   research   at   yale   and   columbia   univers   in   associ   with   the   world   econom   forum   .   2.pollut   of   the   environ   is   a   seriou   problem   of   industri   societi   .   industri   develop   and   the   green   revolut   have   had   a   neg   impact   on   the   environ   .   peopl   have   convert   the   life   support   system   of   all   live   peopl   into   their   own   resourc   and   have   greatli   disrupt   the   natur   ecolog   balanc   .   seriou   degrad   and   deplet   have   been   caus   due   to   overus   ,   abus   and   mismanag   of   resourc   to   meet   human   greed   .   environment   pollut   is   defin   as   the   advers   alter   of   our   environ   .   it   is   a   by-product   of   human   activ   that   are   directli   or   indirectli   respons   for   the   chang   in   the   environ   .   these   chang   could   be   in   the   physic   ,   chemic   or   biolog   characterist   of   air   or   water   that   are   harm   to   human   life   and   other   live   thing   .   popul   explos   ,   rapid   industri   ,   deforest   ,   unplan   urban   ,   scientif   and   technolog   advanc   ,   etc   .   the   main   caus   of   environment   pollut   .   about   35   %   of   india   's   total   area   is   serious   pollut   .   three-quart   of   the   land   is   water   ,   but   there   is   a   shortag   of   drink   water   .   in   india   ,   water   sourc   are   found   in   pond   and   river   lake   have   been   pollut   and   are   unfit   for   consumpt   .   due   to   the   increas   use   of   fertil   ,   sea   and   ocean   have   been   contamin   with   harm   pollut   .  \n",
            "remove Stop Words\n",
            "word pollut wa deriv latin word pollut , make dirti . pollut process make environ pollut water air harm substanc . pollut caus imbal environ . imbal threaten veri surviv form life . 's threat world . india rank bottom 125 132 countri 2012 environment perform index . report produc research yale columbia univers associ world econom forum . 2.pollut environ seriou problem industri societi . industri develop green revolut neg impact environ . peopl convert life support system live peopl resourc greatli disrupt natur ecolog balanc . seriou degrad deplet caus due overus , abus mismanag resourc meet human greed . environment pollut defin advers alter environ . by-product human activ directli indirectli respons chang environ . chang physic , chemic biolog characterist air water harm human life live . popul explos , rapid industri , deforest , unplan urban , scientif technolog advanc , . caus environment pollut . 35 % india 's total area pollut . three-quart land water , shortag drink water . india , water sourc found pond river lake pollut unfit consumpt . due increas fertil , ocean contamin harm pollut .\n"
          ]
        }
      ]
    },
    {
      "cell_type": "code",
      "source": [
        "\n",
        "sentence = y.lower()\n",
        "sentencee =  re.sub(r'\\d+','',sentence)\n",
        "sentenceee = re.sub(r'[^\\w\\s]','', sentencee)\n",
        "\n",
        "\n",
        "\n",
        "print(y)\n",
        "print(\"Nromailzation\")\n",
        "\n",
        "print(sentenceee)"
      ],
      "metadata": {
        "colab": {
          "base_uri": "https://localhost:8080/"
        },
        "id": "VWed0U08iNNd",
        "outputId": "3487072f-9d2f-4fbc-ac49-39015a30f1c6"
      },
      "execution_count": 33,
      "outputs": [
        {
          "output_type": "stream",
          "name": "stdout",
          "text": [
            "word pollut wa deriv latin word pollut , make dirti . pollut process make environ pollut water air harm substanc . pollut caus imbal environ . imbal threaten veri surviv form life . 's threat world . india rank bottom 125 132 countri 2012 environment perform index . report produc research yale columbia univers associ world econom forum . 2.pollut environ seriou problem industri societi . industri develop green revolut neg impact environ . peopl convert life support system live peopl resourc greatli disrupt natur ecolog balanc . seriou degrad deplet caus due overus , abus mismanag resourc meet human greed . environment pollut defin advers alter environ . by-product human activ directli indirectli respons chang environ . chang physic , chemic biolog characterist air water harm human life live . popul explos , rapid industri , deforest , unplan urban , scientif technolog advanc , . caus environment pollut . 35 % india 's total area pollut . three-quart land water , shortag drink water . india , water sourc found pond river lake pollut unfit consumpt . due increas fertil , ocean contamin harm pollut .\n",
            "Nromailzation\n",
            "word pollut wa deriv latin word pollut  make dirti  pollut process make environ pollut water air harm substanc  pollut caus imbal environ  imbal threaten veri surviv form life  s threat world  india rank bottom   countri  environment perform index  report produc research yale columbia univers associ world econom forum  pollut environ seriou problem industri societi  industri develop green revolut neg impact environ  peopl convert life support system live peopl resourc greatli disrupt natur ecolog balanc  seriou degrad deplet caus due overus  abus mismanag resourc meet human greed  environment pollut defin advers alter environ  byproduct human activ directli indirectli respons chang environ  chang physic  chemic biolog characterist air water harm human life live  popul explos  rapid industri  deforest  unplan urban  scientif technolog advanc   caus environment pollut    india s total area pollut  threequart land water  shortag drink water  india  water sourc found pond river lake pollut unfit consumpt  due increas fertil  ocean contamin harm pollut \n"
          ]
        }
      ]
    },
    {
      "cell_type": "code",
      "source": [
        "print(\"original text:\",\"\\n\",my_line_list)\n",
        "print(\"stemmed sentence:\",\"\\n\",x)\n",
        "print(\"remove Stop Words:\",\"\\n\",y)\n",
        "print(\"Nromailzation\",\"\\n\",sentenceee)"
      ],
      "metadata": {
        "colab": {
          "base_uri": "https://localhost:8080/"
        },
        "id": "EJc8QDF2liKC",
        "outputId": "db6c7002-4743-4d0f-cf93-78cb852683c0"
      },
      "execution_count": 34,
      "outputs": [
        {
          "output_type": "stream",
          "name": "stdout",
          "text": [
            "original text: \n",
            " The word pollution was derived from the Latin word pollution, which means to make dirty. Pollution is the process of making the environment pollute the water and the air by adding harmful substances. Pollution causes an imbalance in the environment. This imbalance threatened the very survival of all forms of life. It's a threat to the whole world. India ranks at the bottom of 125 of the 132 countries in the 2012 Environmental Performance Index. This report is produced by researchers at Yale and Columbia University in association with the World Economic Forum.\n",
            "\n",
            "2.Pollution of the environment is a serious problem of industrialized societies. Industrial development and the green revolution have had a negative impact on the environment. People have converted the life support system of all living people into their own resources and have greatly disrupted the natural ecological balance. Serious degradation and depletion have been caused due to overuse, abuse and mismanagement of resources to meet human greed.\n",
            "Environmental pollution is defined as the adverse alteration of our environment. It is a by-product of human activities that are directly or indirectly responsible for the changes in the environment. These changes could be in the physical, chemical or biological characteristics of air or water that are harmful to human life and other living things. Population explosion, rapid industrialization, deforestation, unplanned urbanization, scientific and technological advancement, etc. The main causes of environmental pollution. About 35% of India's total area is seriously polluted. Three-quarters of the land is water, but there is a shortage of drinking water. In India, water sources are found in ponds and river lakes have been polluted and are unfit for consumption. Due to the increased use of fertilizers, seas and oceans have been contaminated with harmful pollutants.\n",
            "\n",
            "stemmed sentence: \n",
            " the   word   pollut   wa   deriv   from   the   latin   word   pollut   ,   which   mean   to   make   dirti   .   pollut   is   the   process   of   make   the   environ   pollut   the   water   and   the   air   by   ad   harm   substanc   .   pollut   caus   an   imbal   in   the   environ   .   thi   imbal   threaten   the   veri   surviv   of   all   form   of   life   .   it   's   a   threat   to   the   whole   world   .   india   rank   at   the   bottom   of   125   of   the   132   countri   in   the   2012   environment   perform   index   .   thi   report   is   produc   by   research   at   yale   and   columbia   univers   in   associ   with   the   world   econom   forum   .   2.pollut   of   the   environ   is   a   seriou   problem   of   industri   societi   .   industri   develop   and   the   green   revolut   have   had   a   neg   impact   on   the   environ   .   peopl   have   convert   the   life   support   system   of   all   live   peopl   into   their   own   resourc   and   have   greatli   disrupt   the   natur   ecolog   balanc   .   seriou   degrad   and   deplet   have   been   caus   due   to   overus   ,   abus   and   mismanag   of   resourc   to   meet   human   greed   .   environment   pollut   is   defin   as   the   advers   alter   of   our   environ   .   it   is   a   by-product   of   human   activ   that   are   directli   or   indirectli   respons   for   the   chang   in   the   environ   .   these   chang   could   be   in   the   physic   ,   chemic   or   biolog   characterist   of   air   or   water   that   are   harm   to   human   life   and   other   live   thing   .   popul   explos   ,   rapid   industri   ,   deforest   ,   unplan   urban   ,   scientif   and   technolog   advanc   ,   etc   .   the   main   caus   of   environment   pollut   .   about   35   %   of   india   's   total   area   is   serious   pollut   .   three-quart   of   the   land   is   water   ,   but   there   is   a   shortag   of   drink   water   .   in   india   ,   water   sourc   are   found   in   pond   and   river   lake   have   been   pollut   and   are   unfit   for   consumpt   .   due   to   the   increas   use   of   fertil   ,   sea   and   ocean   have   been   contamin   with   harm   pollut   .  \n",
            "remove Stop Words: \n",
            " word pollut wa deriv latin word pollut , make dirti . pollut process make environ pollut water air harm substanc . pollut caus imbal environ . imbal threaten veri surviv form life . 's threat world . india rank bottom 125 132 countri 2012 environment perform index . report produc research yale columbia univers associ world econom forum . 2.pollut environ seriou problem industri societi . industri develop green revolut neg impact environ . peopl convert life support system live peopl resourc greatli disrupt natur ecolog balanc . seriou degrad deplet caus due overus , abus mismanag resourc meet human greed . environment pollut defin advers alter environ . by-product human activ directli indirectli respons chang environ . chang physic , chemic biolog characterist air water harm human life live . popul explos , rapid industri , deforest , unplan urban , scientif technolog advanc , . caus environment pollut . 35 % india 's total area pollut . three-quart land water , shortag drink water . india , water sourc found pond river lake pollut unfit consumpt . due increas fertil , ocean contamin harm pollut .\n",
            "Nromailzation \n",
            " word pollut wa deriv latin word pollut  make dirti  pollut process make environ pollut water air harm substanc  pollut caus imbal environ  imbal threaten veri surviv form life  s threat world  india rank bottom   countri  environment perform index  report produc research yale columbia univers associ world econom forum  pollut environ seriou problem industri societi  industri develop green revolut neg impact environ  peopl convert life support system live peopl resourc greatli disrupt natur ecolog balanc  seriou degrad deplet caus due overus  abus mismanag resourc meet human greed  environment pollut defin advers alter environ  byproduct human activ directli indirectli respons chang environ  chang physic  chemic biolog characterist air water harm human life live  popul explos  rapid industri  deforest  unplan urban  scientif technolog advanc   caus environment pollut    india s total area pollut  threequart land water  shortag drink water  india  water sourc found pond river lake pollut unfit consumpt  due increas fertil  ocean contamin harm pollut \n"
          ]
        }
      ]
    },
    {
      "cell_type": "code",
      "source": [],
      "metadata": {
        "id": "mVYw-H_bmNSn"
      },
      "execution_count": null,
      "outputs": []
    }
  ]
}